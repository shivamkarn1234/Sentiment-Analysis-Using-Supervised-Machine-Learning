{
 "cells": [
  {
   "cell_type": "code",
   "execution_count": 1,
   "id": "e683cafb",
   "metadata": {
    "_cell_guid": "b1076dfc-b9ad-4769-8c92-a6c4dae69d19",
    "_uuid": "8f2839f25d086af736a60e9eeb907d3b93b6e0e5",
    "execution": {
     "iopub.execute_input": "2022-04-06T05:52:25.034364Z",
     "iopub.status.busy": "2022-04-06T05:52:25.033743Z",
     "iopub.status.idle": "2022-04-06T05:52:25.046479Z",
     "shell.execute_reply": "2022-04-06T05:52:25.048176Z",
     "shell.execute_reply.started": "2022-04-06T05:22:49.393703Z"
    },
    "papermill": {
     "duration": 0.076107,
     "end_time": "2022-04-06T05:52:25.048476",
     "exception": false,
     "start_time": "2022-04-06T05:52:24.972369",
     "status": "completed"
    },
    "tags": []
   },
   "outputs": [
    {
     "name": "stdout",
     "output_type": "stream",
     "text": [
      "/kaggle/input/imdb-dataset-of-50k-movie-reviews/IMDB Dataset.csv\n"
     ]
    }
   ],
   "source": [
    "# This Python 3 environment comes with many helpful analytics libraries installed\n",
    "# It is defined by the kaggle/python Docker image: https://github.com/kaggle/docker-python\n",
    "# For example, here's several helpful packages to load\n",
    "\n",
    "import numpy as np # linear algebra\n",
    "import pandas as pd # data processing, CSV file I/O (e.g. pd.read_csv)\n",
    "\n",
    "# Input data files are available in the read-only \"../input/\" directory\n",
    "# For example, running this (by clicking run or pressing Shift+Enter) will list all files under the input directory\n",
    "\n",
    "import os\n",
    "for dirname, _, filenames in os.walk('/kaggle/input'):\n",
    "    for filename in filenames:\n",
    "        print(os.path.join(dirname, filename))\n",
    "\n",
    "# You can write up to 20GB to the current directory (/kaggle/working/) that gets preserved as output when you create a version using \"Save & Run All\" \n",
    "# You can also write temporary files to /kaggle/temp/, but they won't be saved outside of the current session"
   ]
  },
  {
   "cell_type": "markdown",
   "id": "fa30d1fd",
   "metadata": {
    "papermill": {
     "duration": 0.036137,
     "end_time": "2022-04-06T05:52:25.126951",
     "exception": false,
     "start_time": "2022-04-06T05:52:25.090814",
     "status": "completed"
    },
    "tags": []
   },
   "source": [
    "/kaggle/input/imdb-dataset-of-50k-movie-reviews/IMDB Dataset.csv\n"
   ]
  },
  {
   "cell_type": "code",
   "execution_count": 2,
   "id": "ee4dff39",
   "metadata": {
    "execution": {
     "iopub.execute_input": "2022-04-06T05:52:25.208183Z",
     "iopub.status.busy": "2022-04-06T05:52:25.207470Z",
     "iopub.status.idle": "2022-04-06T05:52:26.607483Z",
     "shell.execute_reply": "2022-04-06T05:52:26.607999Z",
     "shell.execute_reply.started": "2022-04-06T05:22:49.403306Z"
    },
    "papermill": {
     "duration": 1.443833,
     "end_time": "2022-04-06T05:52:26.608172",
     "exception": false,
     "start_time": "2022-04-06T05:52:25.164339",
     "status": "completed"
    },
    "tags": []
   },
   "outputs": [
    {
     "data": {
      "text/html": [
       "<div>\n",
       "<style scoped>\n",
       "    .dataframe tbody tr th:only-of-type {\n",
       "        vertical-align: middle;\n",
       "    }\n",
       "\n",
       "    .dataframe tbody tr th {\n",
       "        vertical-align: top;\n",
       "    }\n",
       "\n",
       "    .dataframe thead th {\n",
       "        text-align: right;\n",
       "    }\n",
       "</style>\n",
       "<table border=\"1\" class=\"dataframe\">\n",
       "  <thead>\n",
       "    <tr style=\"text-align: right;\">\n",
       "      <th></th>\n",
       "      <th>review</th>\n",
       "      <th>sentiment</th>\n",
       "    </tr>\n",
       "  </thead>\n",
       "  <tbody>\n",
       "    <tr>\n",
       "      <th>0</th>\n",
       "      <td>One of the other reviewers has mentioned that ...</td>\n",
       "      <td>positive</td>\n",
       "    </tr>\n",
       "    <tr>\n",
       "      <th>1</th>\n",
       "      <td>A wonderful little production. &lt;br /&gt;&lt;br /&gt;The...</td>\n",
       "      <td>positive</td>\n",
       "    </tr>\n",
       "    <tr>\n",
       "      <th>2</th>\n",
       "      <td>I thought this was a wonderful way to spend ti...</td>\n",
       "      <td>positive</td>\n",
       "    </tr>\n",
       "    <tr>\n",
       "      <th>3</th>\n",
       "      <td>Basically there's a family where a little boy ...</td>\n",
       "      <td>negative</td>\n",
       "    </tr>\n",
       "    <tr>\n",
       "      <th>4</th>\n",
       "      <td>Petter Mattei's \"Love in the Time of Money\" is...</td>\n",
       "      <td>positive</td>\n",
       "    </tr>\n",
       "    <tr>\n",
       "      <th>...</th>\n",
       "      <td>...</td>\n",
       "      <td>...</td>\n",
       "    </tr>\n",
       "    <tr>\n",
       "      <th>49995</th>\n",
       "      <td>I thought this movie did a down right good job...</td>\n",
       "      <td>positive</td>\n",
       "    </tr>\n",
       "    <tr>\n",
       "      <th>49996</th>\n",
       "      <td>Bad plot, bad dialogue, bad acting, idiotic di...</td>\n",
       "      <td>negative</td>\n",
       "    </tr>\n",
       "    <tr>\n",
       "      <th>49997</th>\n",
       "      <td>I am a Catholic taught in parochial elementary...</td>\n",
       "      <td>negative</td>\n",
       "    </tr>\n",
       "    <tr>\n",
       "      <th>49998</th>\n",
       "      <td>I'm going to have to disagree with the previou...</td>\n",
       "      <td>negative</td>\n",
       "    </tr>\n",
       "    <tr>\n",
       "      <th>49999</th>\n",
       "      <td>No one expects the Star Trek movies to be high...</td>\n",
       "      <td>negative</td>\n",
       "    </tr>\n",
       "  </tbody>\n",
       "</table>\n",
       "<p>50000 rows × 2 columns</p>\n",
       "</div>"
      ],
      "text/plain": [
       "                                                  review sentiment\n",
       "0      One of the other reviewers has mentioned that ...  positive\n",
       "1      A wonderful little production. <br /><br />The...  positive\n",
       "2      I thought this was a wonderful way to spend ti...  positive\n",
       "3      Basically there's a family where a little boy ...  negative\n",
       "4      Petter Mattei's \"Love in the Time of Money\" is...  positive\n",
       "...                                                  ...       ...\n",
       "49995  I thought this movie did a down right good job...  positive\n",
       "49996  Bad plot, bad dialogue, bad acting, idiotic di...  negative\n",
       "49997  I am a Catholic taught in parochial elementary...  negative\n",
       "49998  I'm going to have to disagree with the previou...  negative\n",
       "49999  No one expects the Star Trek movies to be high...  negative\n",
       "\n",
       "[50000 rows x 2 columns]"
      ]
     },
     "execution_count": 2,
     "metadata": {},
     "output_type": "execute_result"
    }
   ],
   "source": [
    "df_review = pd.read_csv('/kaggle/input/imdb-dataset-of-50k-movie-reviews/IMDB Dataset.csv')\n",
    "df_review"
   ]
  },
  {
   "cell_type": "code",
   "execution_count": 3,
   "id": "294b9ee5",
   "metadata": {
    "execution": {
     "iopub.execute_input": "2022-04-06T05:52:26.684542Z",
     "iopub.status.busy": "2022-04-06T05:52:26.683944Z",
     "iopub.status.idle": "2022-04-06T05:52:26.797443Z",
     "shell.execute_reply": "2022-04-06T05:52:26.796844Z",
     "shell.execute_reply.started": "2022-04-06T05:22:50.208233Z"
    },
    "papermill": {
     "duration": 0.153125,
     "end_time": "2022-04-06T05:52:26.797569",
     "exception": false,
     "start_time": "2022-04-06T05:52:26.644444",
     "status": "completed"
    },
    "tags": []
   },
   "outputs": [
    {
     "data": {
      "text/html": [
       "<div>\n",
       "<style scoped>\n",
       "    .dataframe tbody tr th:only-of-type {\n",
       "        vertical-align: middle;\n",
       "    }\n",
       "\n",
       "    .dataframe tbody tr th {\n",
       "        vertical-align: top;\n",
       "    }\n",
       "\n",
       "    .dataframe thead th {\n",
       "        text-align: right;\n",
       "    }\n",
       "</style>\n",
       "<table border=\"1\" class=\"dataframe\">\n",
       "  <thead>\n",
       "    <tr style=\"text-align: right;\">\n",
       "      <th></th>\n",
       "      <th>review</th>\n",
       "      <th>sentiment</th>\n",
       "    </tr>\n",
       "  </thead>\n",
       "  <tbody>\n",
       "    <tr>\n",
       "      <th>count</th>\n",
       "      <td>50000</td>\n",
       "      <td>50000</td>\n",
       "    </tr>\n",
       "    <tr>\n",
       "      <th>unique</th>\n",
       "      <td>49582</td>\n",
       "      <td>2</td>\n",
       "    </tr>\n",
       "    <tr>\n",
       "      <th>top</th>\n",
       "      <td>Loved today's show!!! It was a variety and not...</td>\n",
       "      <td>positive</td>\n",
       "    </tr>\n",
       "    <tr>\n",
       "      <th>freq</th>\n",
       "      <td>5</td>\n",
       "      <td>25000</td>\n",
       "    </tr>\n",
       "  </tbody>\n",
       "</table>\n",
       "</div>"
      ],
      "text/plain": [
       "                                                   review sentiment\n",
       "count                                               50000     50000\n",
       "unique                                              49582         2\n",
       "top     Loved today's show!!! It was a variety and not...  positive\n",
       "freq                                                    5     25000"
      ]
     },
     "execution_count": 3,
     "metadata": {},
     "output_type": "execute_result"
    }
   ],
   "source": [
    "df_review.describe()\n"
   ]
  },
  {
   "cell_type": "code",
   "execution_count": 4,
   "id": "40e2b203",
   "metadata": {
    "execution": {
     "iopub.execute_input": "2022-04-06T05:52:26.889690Z",
     "iopub.status.busy": "2022-04-06T05:52:26.888780Z",
     "iopub.status.idle": "2022-04-06T05:52:26.899945Z",
     "shell.execute_reply": "2022-04-06T05:52:26.900483Z",
     "shell.execute_reply.started": "2022-04-06T05:22:50.326833Z"
    },
    "papermill": {
     "duration": 0.067242,
     "end_time": "2022-04-06T05:52:26.900660",
     "exception": false,
     "start_time": "2022-04-06T05:52:26.833418",
     "status": "completed"
    },
    "tags": []
   },
   "outputs": [
    {
     "name": "stdout",
     "output_type": "stream",
     "text": [
      "<class 'pandas.core.frame.DataFrame'>\n",
      "RangeIndex: 50000 entries, 0 to 49999\n",
      "Data columns (total 2 columns):\n",
      " #   Column     Non-Null Count  Dtype \n",
      "---  ------     --------------  ----- \n",
      " 0   review     50000 non-null  object\n",
      " 1   sentiment  50000 non-null  object\n",
      "dtypes: object(2)\n",
      "memory usage: 781.4+ KB\n"
     ]
    }
   ],
   "source": [
    "df_review.info()"
   ]
  },
  {
   "cell_type": "code",
   "execution_count": 5,
   "id": "9640e69d",
   "metadata": {
    "execution": {
     "iopub.execute_input": "2022-04-06T05:52:26.989099Z",
     "iopub.status.busy": "2022-04-06T05:52:26.988406Z",
     "iopub.status.idle": "2022-04-06T05:52:27.005379Z",
     "shell.execute_reply": "2022-04-06T05:52:27.004825Z",
     "shell.execute_reply.started": "2022-04-06T05:22:50.359136Z"
    },
    "papermill": {
     "duration": 0.06662,
     "end_time": "2022-04-06T05:52:27.005516",
     "exception": false,
     "start_time": "2022-04-06T05:52:26.938896",
     "status": "completed"
    },
    "tags": []
   },
   "outputs": [],
   "source": [
    "df_positive = df_review[df_review['sentiment']=='positive'][:9000]\n",
    "df_negative = df_review[df_review['sentiment']=='negative'][:1000]\n",
    "df_review_imb = pd.concat([df_positive, df_negative])"
   ]
  },
  {
   "cell_type": "code",
   "execution_count": 6,
   "id": "ac0dee0b",
   "metadata": {
    "execution": {
     "iopub.execute_input": "2022-04-06T05:52:27.086115Z",
     "iopub.status.busy": "2022-04-06T05:52:27.085172Z",
     "iopub.status.idle": "2022-04-06T05:52:27.098217Z",
     "shell.execute_reply": "2022-04-06T05:52:27.098810Z",
     "shell.execute_reply.started": "2022-04-06T05:22:50.394261Z"
    },
    "papermill": {
     "duration": 0.055295,
     "end_time": "2022-04-06T05:52:27.098973",
     "exception": false,
     "start_time": "2022-04-06T05:52:27.043678",
     "status": "completed"
    },
    "tags": []
   },
   "outputs": [
    {
     "name": "stdout",
     "output_type": "stream",
     "text": [
      "<class 'pandas.core.frame.DataFrame'>\n",
      "Int64Index: 10000 entries, 0 to 2013\n",
      "Data columns (total 2 columns):\n",
      " #   Column     Non-Null Count  Dtype \n",
      "---  ------     --------------  ----- \n",
      " 0   review     10000 non-null  object\n",
      " 1   sentiment  10000 non-null  object\n",
      "dtypes: object(2)\n",
      "memory usage: 234.4+ KB\n"
     ]
    }
   ],
   "source": [
    "df_review_imb.info()"
   ]
  },
  {
   "cell_type": "code",
   "execution_count": 7,
   "id": "d2c1aadc",
   "metadata": {
    "execution": {
     "iopub.execute_input": "2022-04-06T05:52:27.176702Z",
     "iopub.status.busy": "2022-04-06T05:52:27.176079Z",
     "iopub.status.idle": "2022-04-06T05:52:27.336563Z",
     "shell.execute_reply": "2022-04-06T05:52:27.337403Z",
     "shell.execute_reply.started": "2022-04-06T05:22:50.408563Z"
    },
    "papermill": {
     "duration": 0.201702,
     "end_time": "2022-04-06T05:52:27.337701",
     "exception": false,
     "start_time": "2022-04-06T05:52:27.135999",
     "status": "completed"
    },
    "tags": []
   },
   "outputs": [
    {
     "data": {
      "text/plain": [
       "<AxesSubplot:>"
      ]
     },
     "execution_count": 7,
     "metadata": {},
     "output_type": "execute_result"
    },
    {
     "data": {
      "image/png": "[encoded data removed]",
      "text/plain": [
       "<Figure size 432x288 with 1 Axes>"
      ]
     },
     "metadata": {
      "needs_background": "light"
     },
     "output_type": "display_data"
    }
   ],
   "source": [
    "import matplotlib.pyplot as plt\n",
    "df_review_imb['sentiment'].value_counts().plot(kind='bar')"
   ]
  },
  {
   "cell_type": "code",
   "execution_count": 8,
   "id": "ae4122e0",
   "metadata": {
    "execution": {
     "iopub.execute_input": "2022-04-06T05:52:27.423142Z",
     "iopub.status.busy": "2022-04-06T05:52:27.422510Z",
     "iopub.status.idle": "2022-04-06T05:52:27.688491Z",
     "shell.execute_reply": "2022-04-06T05:52:27.689126Z",
     "shell.execute_reply.started": "2022-04-06T05:22:50.641983Z"
    },
    "papermill": {
     "duration": 0.308563,
     "end_time": "2022-04-06T05:52:27.689293",
     "exception": false,
     "start_time": "2022-04-06T05:52:27.380730",
     "status": "completed"
    },
    "tags": []
   },
   "outputs": [
    {
     "data": {
      "text/plain": [
       "<AxesSubplot:>"
      ]
     },
     "execution_count": 8,
     "metadata": {},
     "output_type": "execute_result"
    },
    {
     "data": {
      "image/png": "[encoded data removed]",
      "text/plain": [
       "<Figure size 432x288 with 1 Axes>"
      ]
     },
     "metadata": {
      "needs_background": "light"
     },
     "output_type": "display_data"
    }
   ],
   "source": [
    "df_review['sentiment'].value_counts().plot(kind='bar')"
   ]
  },
  {
   "cell_type": "code",
   "execution_count": 9,
   "id": "f44288c3",
   "metadata": {
    "execution": {
     "iopub.execute_input": "2022-04-06T05:52:27.772408Z",
     "iopub.status.busy": "2022-04-06T05:52:27.771821Z",
     "iopub.status.idle": "2022-04-06T05:52:29.002348Z",
     "shell.execute_reply": "2022-04-06T05:52:29.001812Z",
     "shell.execute_reply.started": "2022-04-06T05:22:50.942386Z"
    },
    "papermill": {
     "duration": 1.27312,
     "end_time": "2022-04-06T05:52:29.002481",
     "exception": false,
     "start_time": "2022-04-06T05:52:27.729361",
     "status": "completed"
    },
    "tags": []
   },
   "outputs": [
    {
     "data": {
      "text/html": [
       "<div>\n",
       "<style scoped>\n",
       "    .dataframe tbody tr th:only-of-type {\n",
       "        vertical-align: middle;\n",
       "    }\n",
       "\n",
       "    .dataframe tbody tr th {\n",
       "        vertical-align: top;\n",
       "    }\n",
       "\n",
       "    .dataframe thead th {\n",
       "        text-align: right;\n",
       "    }\n",
       "</style>\n",
       "<table border=\"1\" class=\"dataframe\">\n",
       "  <thead>\n",
       "    <tr style=\"text-align: right;\">\n",
       "      <th></th>\n",
       "      <th>review</th>\n",
       "      <th>sentiment</th>\n",
       "    </tr>\n",
       "  </thead>\n",
       "  <tbody>\n",
       "    <tr>\n",
       "      <th>0</th>\n",
       "      <td>Basically there's a family where a little boy ...</td>\n",
       "      <td>negative</td>\n",
       "    </tr>\n",
       "    <tr>\n",
       "      <th>1</th>\n",
       "      <td>This show was an amazing, fresh &amp; innovative i...</td>\n",
       "      <td>negative</td>\n",
       "    </tr>\n",
       "    <tr>\n",
       "      <th>2</th>\n",
       "      <td>Encouraged by the positive comments about this...</td>\n",
       "      <td>negative</td>\n",
       "    </tr>\n",
       "    <tr>\n",
       "      <th>3</th>\n",
       "      <td>Phil the Alien is one of those quirky films wh...</td>\n",
       "      <td>negative</td>\n",
       "    </tr>\n",
       "    <tr>\n",
       "      <th>4</th>\n",
       "      <td>I saw this movie when I was about 12 when it c...</td>\n",
       "      <td>negative</td>\n",
       "    </tr>\n",
       "    <tr>\n",
       "      <th>...</th>\n",
       "      <td>...</td>\n",
       "      <td>...</td>\n",
       "    </tr>\n",
       "    <tr>\n",
       "      <th>1995</th>\n",
       "      <td>Knute Rockne led an extraordinary life and his...</td>\n",
       "      <td>positive</td>\n",
       "    </tr>\n",
       "    <tr>\n",
       "      <th>1996</th>\n",
       "      <td>At the height of the 'Celebrity Big Brother' r...</td>\n",
       "      <td>positive</td>\n",
       "    </tr>\n",
       "    <tr>\n",
       "      <th>1997</th>\n",
       "      <td>This is another of Robert Altman's underrated ...</td>\n",
       "      <td>positive</td>\n",
       "    </tr>\n",
       "    <tr>\n",
       "      <th>1998</th>\n",
       "      <td>This movie won a special award at Cannes for i...</td>\n",
       "      <td>positive</td>\n",
       "    </tr>\n",
       "    <tr>\n",
       "      <th>1999</th>\n",
       "      <td>You'd be forgiven to think a Finnish director ...</td>\n",
       "      <td>positive</td>\n",
       "    </tr>\n",
       "  </tbody>\n",
       "</table>\n",
       "<p>2000 rows × 2 columns</p>\n",
       "</div>"
      ],
      "text/plain": [
       "                                                 review sentiment\n",
       "0     Basically there's a family where a little boy ...  negative\n",
       "1     This show was an amazing, fresh & innovative i...  negative\n",
       "2     Encouraged by the positive comments about this...  negative\n",
       "3     Phil the Alien is one of those quirky films wh...  negative\n",
       "4     I saw this movie when I was about 12 when it c...  negative\n",
       "...                                                 ...       ...\n",
       "1995  Knute Rockne led an extraordinary life and his...  positive\n",
       "1996  At the height of the 'Celebrity Big Brother' r...  positive\n",
       "1997  This is another of Robert Altman's underrated ...  positive\n",
       "1998  This movie won a special award at Cannes for i...  positive\n",
       "1999  You'd be forgiven to think a Finnish director ...  positive\n",
       "\n",
       "[2000 rows x 2 columns]"
      ]
     },
     "execution_count": 9,
     "metadata": {},
     "output_type": "execute_result"
    }
   ],
   "source": [
    "from imblearn.under_sampling import  RandomUnderSampler\n",
    "\n",
    "rus = RandomUnderSampler(random_state=0)\n",
    "df_review_bal, df_review_bal['sentiment']=rus.fit_resample(df_review_imb[['review']],\n",
    "                                                           df_review_imb['sentiment'])\n",
    "df_review_bal"
   ]
  },
  {
   "cell_type": "code",
   "execution_count": 10,
   "id": "73877121",
   "metadata": {
    "execution": {
     "iopub.execute_input": "2022-04-06T05:52:29.088363Z",
     "iopub.status.busy": "2022-04-06T05:52:29.087426Z",
     "iopub.status.idle": "2022-04-06T05:52:29.218502Z",
     "shell.execute_reply": "2022-04-06T05:52:29.219000Z",
     "shell.execute_reply.started": "2022-04-06T05:22:52.429221Z"
    },
    "papermill": {
     "duration": 0.175876,
     "end_time": "2022-04-06T05:52:29.219179",
     "exception": false,
     "start_time": "2022-04-06T05:52:29.043303",
     "status": "completed"
    },
    "tags": []
   },
   "outputs": [
    {
     "data": {
      "text/plain": [
       "<AxesSubplot:>"
      ]
     },
     "execution_count": 10,
     "metadata": {},
     "output_type": "execute_result"
    },
    {
     "data": {
      "image/png": "[encoded data removed]",
      "text/plain": [
       "<Figure size 432x288 with 1 Axes>"
      ]
     },
     "metadata": {
      "needs_background": "light"
     },
     "output_type": "display_data"
    }
   ],
   "source": [
    "df_review_bal['sentiment'].value_counts().plot(kind='bar')"
   ]
  },
  {
   "cell_type": "code",
   "execution_count": 11,
   "id": "fe1f2d48",
   "metadata": {
    "execution": {
     "iopub.execute_input": "2022-04-06T05:52:29.309506Z",
     "iopub.status.busy": "2022-04-06T05:52:29.308880Z",
     "iopub.status.idle": "2022-04-06T05:52:29.314839Z",
     "shell.execute_reply": "2022-04-06T05:52:29.315330Z",
     "shell.execute_reply.started": "2022-04-06T05:22:52.625706Z"
    },
    "papermill": {
     "duration": 0.052708,
     "end_time": "2022-04-06T05:52:29.315505",
     "exception": false,
     "start_time": "2022-04-06T05:52:29.262797",
     "status": "completed"
    },
    "tags": []
   },
   "outputs": [],
   "source": [
    "from sklearn.model_selection import train_test_split\n",
    "train, test = train_test_split(df_review_bal, test_size=0.33, random_state=42)"
   ]
  },
  {
   "cell_type": "code",
   "execution_count": 12,
   "id": "7e5a6204",
   "metadata": {
    "execution": {
     "iopub.execute_input": "2022-04-06T05:52:29.406070Z",
     "iopub.status.busy": "2022-04-06T05:52:29.405433Z",
     "iopub.status.idle": "2022-04-06T05:52:29.407640Z",
     "shell.execute_reply": "2022-04-06T05:52:29.408110Z",
     "shell.execute_reply.started": "2022-04-06T05:22:52.636829Z"
    },
    "papermill": {
     "duration": 0.050244,
     "end_time": "2022-04-06T05:52:29.408285",
     "exception": false,
     "start_time": "2022-04-06T05:52:29.358041",
     "status": "completed"
    },
    "tags": []
   },
   "outputs": [],
   "source": [
    "train_x, train_y = train['review'], train['sentiment']\n",
    "test_x, test_y = test['review'], test['sentiment']"
   ]
  },
  {
   "cell_type": "code",
   "execution_count": 13,
   "id": "0c5ccb87",
   "metadata": {
    "execution": {
     "iopub.execute_input": "2022-04-06T05:52:29.494887Z",
     "iopub.status.busy": "2022-04-06T05:52:29.494269Z",
     "iopub.status.idle": "2022-04-06T05:52:29.853232Z",
     "shell.execute_reply": "2022-04-06T05:52:29.853711Z",
     "shell.execute_reply.started": "2022-04-06T05:22:52.649748Z"
    },
    "papermill": {
     "duration": 0.403818,
     "end_time": "2022-04-06T05:52:29.853902",
     "exception": false,
     "start_time": "2022-04-06T05:52:29.450084",
     "status": "completed"
    },
    "tags": []
   },
   "outputs": [
    {
     "data": {
      "text/plain": [
       "<1340x20625 sparse matrix of type '<class 'numpy.float64'>'\n",
       "\twith 118834 stored elements in Compressed Sparse Row format>"
      ]
     },
     "execution_count": 13,
     "metadata": {},
     "output_type": "execute_result"
    }
   ],
   "source": [
    "from sklearn.feature_extraction.text import TfidfVectorizer\n",
    "tfidf = TfidfVectorizer(stop_words='english')\n",
    "train_x_vector = tfidf.fit_transform(train_x)\n",
    "train_x_vector"
   ]
  },
  {
   "cell_type": "code",
   "execution_count": 14,
   "id": "1282f7c0",
   "metadata": {
    "execution": {
     "iopub.execute_input": "2022-04-06T05:52:29.952334Z",
     "iopub.status.busy": "2022-04-06T05:52:29.951597Z",
     "iopub.status.idle": "2022-04-06T05:52:30.818706Z",
     "shell.execute_reply": "2022-04-06T05:52:30.818045Z",
     "shell.execute_reply.started": "2022-04-06T05:23:53.020203Z"
    },
    "papermill": {
     "duration": 0.922819,
     "end_time": "2022-04-06T05:52:30.818845",
     "exception": false,
     "start_time": "2022-04-06T05:52:29.896026",
     "status": "completed"
    },
    "tags": []
   },
   "outputs": [
    {
     "data": {
      "text/html": [
       "<div>\n",
       "<style scoped>\n",
       "    .dataframe tbody tr th:only-of-type {\n",
       "        vertical-align: middle;\n",
       "    }\n",
       "\n",
       "    .dataframe tbody tr th {\n",
       "        vertical-align: top;\n",
       "    }\n",
       "\n",
       "    .dataframe thead th {\n",
       "        text-align: right;\n",
       "    }\n",
       "</style>\n",
       "<table border=\"1\" class=\"dataframe\">\n",
       "  <thead>\n",
       "    <tr style=\"text-align: right;\">\n",
       "      <th></th>\n",
       "      <th>00</th>\n",
       "      <th>000</th>\n",
       "      <th>007</th>\n",
       "      <th>01pm</th>\n",
       "      <th>02</th>\n",
       "      <th>04</th>\n",
       "      <th>08</th>\n",
       "      <th>10</th>\n",
       "      <th>100</th>\n",
       "      <th>1000</th>\n",
       "      <th>...</th>\n",
       "      <th>zooming</th>\n",
       "      <th>zooms</th>\n",
       "      <th>zues</th>\n",
       "      <th>zzzzzzzzzzzzzzzzzz</th>\n",
       "      <th>æon</th>\n",
       "      <th>élan</th>\n",
       "      <th>émigré</th>\n",
       "      <th>ísnt</th>\n",
       "      <th>ïn</th>\n",
       "      <th>ünfaithful</th>\n",
       "    </tr>\n",
       "  </thead>\n",
       "  <tbody>\n",
       "    <tr>\n",
       "      <th>81</th>\n",
       "      <td>0.0</td>\n",
       "      <td>0.0</td>\n",
       "      <td>0.0</td>\n",
       "      <td>0.0</td>\n",
       "      <td>0.0</td>\n",
       "      <td>0.0</td>\n",
       "      <td>0.0</td>\n",
       "      <td>0.000000</td>\n",
       "      <td>0.0</td>\n",
       "      <td>0.0</td>\n",
       "      <td>...</td>\n",
       "      <td>0.0</td>\n",
       "      <td>0.0</td>\n",
       "      <td>0.0</td>\n",
       "      <td>0.0</td>\n",
       "      <td>0.0</td>\n",
       "      <td>0.0</td>\n",
       "      <td>0.0</td>\n",
       "      <td>0.0</td>\n",
       "      <td>0.0</td>\n",
       "      <td>0.0</td>\n",
       "    </tr>\n",
       "    <tr>\n",
       "      <th>915</th>\n",
       "      <td>0.0</td>\n",
       "      <td>0.0</td>\n",
       "      <td>0.0</td>\n",
       "      <td>0.0</td>\n",
       "      <td>0.0</td>\n",
       "      <td>0.0</td>\n",
       "      <td>0.0</td>\n",
       "      <td>0.000000</td>\n",
       "      <td>0.0</td>\n",
       "      <td>0.0</td>\n",
       "      <td>...</td>\n",
       "      <td>0.0</td>\n",
       "      <td>0.0</td>\n",
       "      <td>0.0</td>\n",
       "      <td>0.0</td>\n",
       "      <td>0.0</td>\n",
       "      <td>0.0</td>\n",
       "      <td>0.0</td>\n",
       "      <td>0.0</td>\n",
       "      <td>0.0</td>\n",
       "      <td>0.0</td>\n",
       "    </tr>\n",
       "    <tr>\n",
       "      <th>1018</th>\n",
       "      <td>0.0</td>\n",
       "      <td>0.0</td>\n",
       "      <td>0.0</td>\n",
       "      <td>0.0</td>\n",
       "      <td>0.0</td>\n",
       "      <td>0.0</td>\n",
       "      <td>0.0</td>\n",
       "      <td>0.000000</td>\n",
       "      <td>0.0</td>\n",
       "      <td>0.0</td>\n",
       "      <td>...</td>\n",
       "      <td>0.0</td>\n",
       "      <td>0.0</td>\n",
       "      <td>0.0</td>\n",
       "      <td>0.0</td>\n",
       "      <td>0.0</td>\n",
       "      <td>0.0</td>\n",
       "      <td>0.0</td>\n",
       "      <td>0.0</td>\n",
       "      <td>0.0</td>\n",
       "      <td>0.0</td>\n",
       "    </tr>\n",
       "    <tr>\n",
       "      <th>380</th>\n",
       "      <td>0.0</td>\n",
       "      <td>0.0</td>\n",
       "      <td>0.0</td>\n",
       "      <td>0.0</td>\n",
       "      <td>0.0</td>\n",
       "      <td>0.0</td>\n",
       "      <td>0.0</td>\n",
       "      <td>0.042791</td>\n",
       "      <td>0.0</td>\n",
       "      <td>0.0</td>\n",
       "      <td>...</td>\n",
       "      <td>0.0</td>\n",
       "      <td>0.0</td>\n",
       "      <td>0.0</td>\n",
       "      <td>0.0</td>\n",
       "      <td>0.0</td>\n",
       "      <td>0.0</td>\n",
       "      <td>0.0</td>\n",
       "      <td>0.0</td>\n",
       "      <td>0.0</td>\n",
       "      <td>0.0</td>\n",
       "    </tr>\n",
       "    <tr>\n",
       "      <th>1029</th>\n",
       "      <td>0.0</td>\n",
       "      <td>0.0</td>\n",
       "      <td>0.0</td>\n",
       "      <td>0.0</td>\n",
       "      <td>0.0</td>\n",
       "      <td>0.0</td>\n",
       "      <td>0.0</td>\n",
       "      <td>0.000000</td>\n",
       "      <td>0.0</td>\n",
       "      <td>0.0</td>\n",
       "      <td>...</td>\n",
       "      <td>0.0</td>\n",
       "      <td>0.0</td>\n",
       "      <td>0.0</td>\n",
       "      <td>0.0</td>\n",
       "      <td>0.0</td>\n",
       "      <td>0.0</td>\n",
       "      <td>0.0</td>\n",
       "      <td>0.0</td>\n",
       "      <td>0.0</td>\n",
       "      <td>0.0</td>\n",
       "    </tr>\n",
       "    <tr>\n",
       "      <th>...</th>\n",
       "      <td>...</td>\n",
       "      <td>...</td>\n",
       "      <td>...</td>\n",
       "      <td>...</td>\n",
       "      <td>...</td>\n",
       "      <td>...</td>\n",
       "      <td>...</td>\n",
       "      <td>...</td>\n",
       "      <td>...</td>\n",
       "      <td>...</td>\n",
       "      <td>...</td>\n",
       "      <td>...</td>\n",
       "      <td>...</td>\n",
       "      <td>...</td>\n",
       "      <td>...</td>\n",
       "      <td>...</td>\n",
       "      <td>...</td>\n",
       "      <td>...</td>\n",
       "      <td>...</td>\n",
       "      <td>...</td>\n",
       "      <td>...</td>\n",
       "    </tr>\n",
       "    <tr>\n",
       "      <th>1130</th>\n",
       "      <td>0.0</td>\n",
       "      <td>0.0</td>\n",
       "      <td>0.0</td>\n",
       "      <td>0.0</td>\n",
       "      <td>0.0</td>\n",
       "      <td>0.0</td>\n",
       "      <td>0.0</td>\n",
       "      <td>0.000000</td>\n",
       "      <td>0.0</td>\n",
       "      <td>0.0</td>\n",
       "      <td>...</td>\n",
       "      <td>0.0</td>\n",
       "      <td>0.0</td>\n",
       "      <td>0.0</td>\n",
       "      <td>0.0</td>\n",
       "      <td>0.0</td>\n",
       "      <td>0.0</td>\n",
       "      <td>0.0</td>\n",
       "      <td>0.0</td>\n",
       "      <td>0.0</td>\n",
       "      <td>0.0</td>\n",
       "    </tr>\n",
       "    <tr>\n",
       "      <th>1294</th>\n",
       "      <td>0.0</td>\n",
       "      <td>0.0</td>\n",
       "      <td>0.0</td>\n",
       "      <td>0.0</td>\n",
       "      <td>0.0</td>\n",
       "      <td>0.0</td>\n",
       "      <td>0.0</td>\n",
       "      <td>0.000000</td>\n",
       "      <td>0.0</td>\n",
       "      <td>0.0</td>\n",
       "      <td>...</td>\n",
       "      <td>0.0</td>\n",
       "      <td>0.0</td>\n",
       "      <td>0.0</td>\n",
       "      <td>0.0</td>\n",
       "      <td>0.0</td>\n",
       "      <td>0.0</td>\n",
       "      <td>0.0</td>\n",
       "      <td>0.0</td>\n",
       "      <td>0.0</td>\n",
       "      <td>0.0</td>\n",
       "    </tr>\n",
       "    <tr>\n",
       "      <th>860</th>\n",
       "      <td>0.0</td>\n",
       "      <td>0.0</td>\n",
       "      <td>0.0</td>\n",
       "      <td>0.0</td>\n",
       "      <td>0.0</td>\n",
       "      <td>0.0</td>\n",
       "      <td>0.0</td>\n",
       "      <td>0.000000</td>\n",
       "      <td>0.0</td>\n",
       "      <td>0.0</td>\n",
       "      <td>...</td>\n",
       "      <td>0.0</td>\n",
       "      <td>0.0</td>\n",
       "      <td>0.0</td>\n",
       "      <td>0.0</td>\n",
       "      <td>0.0</td>\n",
       "      <td>0.0</td>\n",
       "      <td>0.0</td>\n",
       "      <td>0.0</td>\n",
       "      <td>0.0</td>\n",
       "      <td>0.0</td>\n",
       "    </tr>\n",
       "    <tr>\n",
       "      <th>1459</th>\n",
       "      <td>0.0</td>\n",
       "      <td>0.0</td>\n",
       "      <td>0.0</td>\n",
       "      <td>0.0</td>\n",
       "      <td>0.0</td>\n",
       "      <td>0.0</td>\n",
       "      <td>0.0</td>\n",
       "      <td>0.000000</td>\n",
       "      <td>0.0</td>\n",
       "      <td>0.0</td>\n",
       "      <td>...</td>\n",
       "      <td>0.0</td>\n",
       "      <td>0.0</td>\n",
       "      <td>0.0</td>\n",
       "      <td>0.0</td>\n",
       "      <td>0.0</td>\n",
       "      <td>0.0</td>\n",
       "      <td>0.0</td>\n",
       "      <td>0.0</td>\n",
       "      <td>0.0</td>\n",
       "      <td>0.0</td>\n",
       "    </tr>\n",
       "    <tr>\n",
       "      <th>1126</th>\n",
       "      <td>0.0</td>\n",
       "      <td>0.0</td>\n",
       "      <td>0.0</td>\n",
       "      <td>0.0</td>\n",
       "      <td>0.0</td>\n",
       "      <td>0.0</td>\n",
       "      <td>0.0</td>\n",
       "      <td>0.000000</td>\n",
       "      <td>0.0</td>\n",
       "      <td>0.0</td>\n",
       "      <td>...</td>\n",
       "      <td>0.0</td>\n",
       "      <td>0.0</td>\n",
       "      <td>0.0</td>\n",
       "      <td>0.0</td>\n",
       "      <td>0.0</td>\n",
       "      <td>0.0</td>\n",
       "      <td>0.0</td>\n",
       "      <td>0.0</td>\n",
       "      <td>0.0</td>\n",
       "      <td>0.0</td>\n",
       "    </tr>\n",
       "  </tbody>\n",
       "</table>\n",
       "<p>1340 rows × 20625 columns</p>\n",
       "</div>"
      ],
      "text/plain": [
       "       00  000  007  01pm   02   04   08        10  100  1000  ...  zooming  \\\n",
       "81    0.0  0.0  0.0   0.0  0.0  0.0  0.0  0.000000  0.0   0.0  ...      0.0   \n",
       "915   0.0  0.0  0.0   0.0  0.0  0.0  0.0  0.000000  0.0   0.0  ...      0.0   \n",
       "1018  0.0  0.0  0.0   0.0  0.0  0.0  0.0  0.000000  0.0   0.0  ...      0.0   \n",
       "380   0.0  0.0  0.0   0.0  0.0  0.0  0.0  0.042791  0.0   0.0  ...      0.0   \n",
       "1029  0.0  0.0  0.0   0.0  0.0  0.0  0.0  0.000000  0.0   0.0  ...      0.0   \n",
       "...   ...  ...  ...   ...  ...  ...  ...       ...  ...   ...  ...      ...   \n",
       "1130  0.0  0.0  0.0   0.0  0.0  0.0  0.0  0.000000  0.0   0.0  ...      0.0   \n",
       "1294  0.0  0.0  0.0   0.0  0.0  0.0  0.0  0.000000  0.0   0.0  ...      0.0   \n",
       "860   0.0  0.0  0.0   0.0  0.0  0.0  0.0  0.000000  0.0   0.0  ...      0.0   \n",
       "1459  0.0  0.0  0.0   0.0  0.0  0.0  0.0  0.000000  0.0   0.0  ...      0.0   \n",
       "1126  0.0  0.0  0.0   0.0  0.0  0.0  0.0  0.000000  0.0   0.0  ...      0.0   \n",
       "\n",
       "      zooms  zues  zzzzzzzzzzzzzzzzzz  æon  élan  émigré  ísnt   ïn  \\\n",
       "81      0.0   0.0                 0.0  0.0   0.0     0.0   0.0  0.0   \n",
       "915     0.0   0.0                 0.0  0.0   0.0     0.0   0.0  0.0   \n",
       "1018    0.0   0.0                 0.0  0.0   0.0     0.0   0.0  0.0   \n",
       "380     0.0   0.0                 0.0  0.0   0.0     0.0   0.0  0.0   \n",
       "1029    0.0   0.0                 0.0  0.0   0.0     0.0   0.0  0.0   \n",
       "...     ...   ...                 ...  ...   ...     ...   ...  ...   \n",
       "1130    0.0   0.0                 0.0  0.0   0.0     0.0   0.0  0.0   \n",
       "1294    0.0   0.0                 0.0  0.0   0.0     0.0   0.0  0.0   \n",
       "860     0.0   0.0                 0.0  0.0   0.0     0.0   0.0  0.0   \n",
       "1459    0.0   0.0                 0.0  0.0   0.0     0.0   0.0  0.0   \n",
       "1126    0.0   0.0                 0.0  0.0   0.0     0.0   0.0  0.0   \n",
       "\n",
       "      ünfaithful  \n",
       "81           0.0  \n",
       "915          0.0  \n",
       "1018         0.0  \n",
       "380          0.0  \n",
       "1029         0.0  \n",
       "...          ...  \n",
       "1130         0.0  \n",
       "1294         0.0  \n",
       "860          0.0  \n",
       "1459         0.0  \n",
       "1126         0.0  \n",
       "\n",
       "[1340 rows x 20625 columns]"
      ]
     },
     "execution_count": 14,
     "metadata": {},
     "output_type": "execute_result"
    }
   ],
   "source": [
    "pd.DataFrame.sparse.from_spmatrix(train_x_vector,\n",
    "                                  index=train_x.index,\n",
    "                                  columns=tfidf.get_feature_names_out())"
   ]
  },
  {
   "cell_type": "code",
   "execution_count": 15,
   "id": "31b2a7c0",
   "metadata": {
    "execution": {
     "iopub.execute_input": "2022-04-06T05:52:30.909476Z",
     "iopub.status.busy": "2022-04-06T05:52:30.908893Z",
     "iopub.status.idle": "2022-04-06T05:52:31.057647Z",
     "shell.execute_reply": "2022-04-06T05:52:31.057010Z",
     "shell.execute_reply.started": "2022-04-06T05:25:52.561551Z"
    },
    "papermill": {
     "duration": 0.195029,
     "end_time": "2022-04-06T05:52:31.057795",
     "exception": false,
     "start_time": "2022-04-06T05:52:30.862766",
     "status": "completed"
    },
    "tags": []
   },
   "outputs": [
    {
     "data": {
      "text/plain": [
       "<660x20625 sparse matrix of type '<class 'numpy.float64'>'\n",
       "\twith 53486 stored elements in Compressed Sparse Row format>"
      ]
     },
     "execution_count": 15,
     "metadata": {},
     "output_type": "execute_result"
    }
   ],
   "source": [
    "test_x_vector = tfidf.transform(test_x)\n",
    "test_x_vector"
   ]
  },
  {
   "cell_type": "markdown",
   "id": "500a1400",
   "metadata": {
    "papermill": {
     "duration": 0.04314,
     "end_time": "2022-04-06T05:52:31.145351",
     "exception": false,
     "start_time": "2022-04-06T05:52:31.102211",
     "status": "completed"
    },
    "tags": []
   },
   "source": [
    "# **MODEL SELECTON**\n",
    "\n",
    "* **Support Vector Machines(SVM)**"
   ]
  },
  {
   "cell_type": "code",
   "execution_count": 16,
   "id": "c58bc7a7",
   "metadata": {
    "execution": {
     "iopub.execute_input": "2022-04-06T05:52:31.237978Z",
     "iopub.status.busy": "2022-04-06T05:52:31.237301Z",
     "iopub.status.idle": "2022-04-06T05:52:32.945061Z",
     "shell.execute_reply": "2022-04-06T05:52:32.945967Z",
     "shell.execute_reply.started": "2022-04-06T05:25:54.814122Z"
    },
    "papermill": {
     "duration": 1.757212,
     "end_time": "2022-04-06T05:52:32.946251",
     "exception": false,
     "start_time": "2022-04-06T05:52:31.189039",
     "status": "completed"
    },
    "tags": []
   },
   "outputs": [
    {
     "data": {
      "text/plain": [
       "SVC(kernel='linear')"
      ]
     },
     "execution_count": 16,
     "metadata": {},
     "output_type": "execute_result"
    }
   ],
   "source": [
    "from sklearn.svm import SVC\n",
    "svc = SVC(kernel=\"linear\")\n",
    "svc.fit(train_x_vector, train_y)"
   ]
  },
  {
   "cell_type": "markdown",
   "id": "8bcd4fc3",
   "metadata": {
    "papermill": {
     "duration": 0.044906,
     "end_time": "2022-04-06T05:52:33.043693",
     "exception": false,
     "start_time": "2022-04-06T05:52:32.998787",
     "status": "completed"
    },
    "tags": []
   },
   "source": [
    "* **Decision Tree**"
   ]
  },
  {
   "cell_type": "code",
   "execution_count": 17,
   "id": "2aa1323b",
   "metadata": {
    "execution": {
     "iopub.execute_input": "2022-04-06T05:52:33.135299Z",
     "iopub.status.busy": "2022-04-06T05:52:33.134627Z",
     "iopub.status.idle": "2022-04-06T05:52:33.532260Z",
     "shell.execute_reply": "2022-04-06T05:52:33.531667Z",
     "shell.execute_reply.started": "2022-04-06T05:26:15.286908Z"
    },
    "papermill": {
     "duration": 0.444657,
     "end_time": "2022-04-06T05:52:33.532407",
     "exception": false,
     "start_time": "2022-04-06T05:52:33.087750",
     "status": "completed"
    },
    "tags": []
   },
   "outputs": [
    {
     "data": {
      "text/plain": [
       "DecisionTreeClassifier()"
      ]
     },
     "execution_count": 17,
     "metadata": {},
     "output_type": "execute_result"
    }
   ],
   "source": [
    "from sklearn.tree import DecisionTreeClassifier\n",
    "dec_tree = DecisionTreeClassifier()\n",
    "dec_tree.fit(train_x_vector, train_y)"
   ]
  },
  {
   "cell_type": "markdown",
   "id": "2ee2e6bb",
   "metadata": {
    "papermill": {
     "duration": 0.055482,
     "end_time": "2022-04-06T05:52:33.642280",
     "exception": false,
     "start_time": "2022-04-06T05:52:33.586798",
     "status": "completed"
    },
    "tags": []
   },
   "source": [
    "* **Navi Bayes**"
   ]
  },
  {
   "cell_type": "code",
   "execution_count": 18,
   "id": "7f155540",
   "metadata": {
    "execution": {
     "iopub.execute_input": "2022-04-06T05:52:33.739663Z",
     "iopub.status.busy": "2022-04-06T05:52:33.738979Z",
     "iopub.status.idle": "2022-04-06T05:52:34.409435Z",
     "shell.execute_reply": "2022-04-06T05:52:34.408792Z",
     "shell.execute_reply.started": "2022-04-06T05:26:18.570615Z"
    },
    "papermill": {
     "duration": 0.718247,
     "end_time": "2022-04-06T05:52:34.409573",
     "exception": false,
     "start_time": "2022-04-06T05:52:33.691326",
     "status": "completed"
    },
    "tags": []
   },
   "outputs": [
    {
     "data": {
      "text/plain": [
       "GaussianNB()"
      ]
     },
     "execution_count": 18,
     "metadata": {},
     "output_type": "execute_result"
    }
   ],
   "source": [
    "from sklearn.naive_bayes import GaussianNB\n",
    "gnb = GaussianNB()\n",
    "gnb.fit(train_x_vector.toarray(), train_y)"
   ]
  },
  {
   "cell_type": "markdown",
   "id": "409717c4",
   "metadata": {
    "papermill": {
     "duration": 0.044846,
     "end_time": "2022-04-06T05:52:34.499946",
     "exception": false,
     "start_time": "2022-04-06T05:52:34.455100",
     "status": "completed"
    },
    "tags": []
   },
   "source": [
    "# Predictions"
   ]
  },
  {
   "cell_type": "code",
   "execution_count": 19,
   "id": "16f38c34",
   "metadata": {
    "execution": {
     "iopub.execute_input": "2022-04-06T05:52:34.598184Z",
     "iopub.status.busy": "2022-04-06T05:52:34.592503Z",
     "iopub.status.idle": "2022-04-06T05:52:34.817130Z",
     "shell.execute_reply": "2022-04-06T05:52:34.817896Z",
     "shell.execute_reply.started": "2022-04-06T05:26:26.337841Z"
    },
    "papermill": {
     "duration": 0.27321,
     "end_time": "2022-04-06T05:52:34.818165",
     "exception": false,
     "start_time": "2022-04-06T05:52:34.544955",
     "status": "completed"
    },
    "tags": []
   },
   "outputs": [
    {
     "data": {
      "text/plain": [
       "LogisticRegression()"
      ]
     },
     "execution_count": 19,
     "metadata": {},
     "output_type": "execute_result"
    }
   ],
   "source": [
    "from sklearn.linear_model import LogisticRegression\n",
    "log_reg = LogisticRegression()\n",
    "log_reg.fit(train_x_vector, train_y)"
   ]
  },
  {
   "cell_type": "code",
   "execution_count": 20,
   "id": "bf8c3bb3",
   "metadata": {
    "execution": {
     "iopub.execute_input": "2022-04-06T05:52:34.999757Z",
     "iopub.status.busy": "2022-04-06T05:52:34.998802Z",
     "iopub.status.idle": "2022-04-06T05:52:35.009534Z",
     "shell.execute_reply": "2022-04-06T05:52:35.010177Z",
     "shell.execute_reply.started": "2022-04-06T05:26:49.038817Z"
    },
    "papermill": {
     "duration": 0.063044,
     "end_time": "2022-04-06T05:52:35.010352",
     "exception": false,
     "start_time": "2022-04-06T05:52:34.947308",
     "status": "completed"
    },
    "tags": []
   },
   "outputs": [
    {
     "name": "stdout",
     "output_type": "stream",
     "text": [
      "['positive']\n",
      "['positive']\n",
      "['negative']\n"
     ]
    }
   ],
   "source": [
    "print(svc.predict(tfidf.transform(['A good movie'])))\n",
    "print(svc.predict(tfidf.transform(['An excellent movie'])))\n",
    "print(svc.predict(tfidf.transform(['I did not like this movie at all'])))"
   ]
  },
  {
   "cell_type": "code",
   "execution_count": 21,
   "id": "3bb9e3ab",
   "metadata": {
    "execution": {
     "iopub.execute_input": "2022-04-06T05:52:35.108500Z",
     "iopub.status.busy": "2022-04-06T05:52:35.107767Z",
     "iopub.status.idle": "2022-04-06T05:52:35.116401Z",
     "shell.execute_reply": "2022-04-06T05:52:35.117016Z",
     "shell.execute_reply.started": "2022-04-06T05:27:09.503099Z"
    },
    "papermill": {
     "duration": 0.061083,
     "end_time": "2022-04-06T05:52:35.117192",
     "exception": false,
     "start_time": "2022-04-06T05:52:35.056109",
     "status": "completed"
    },
    "tags": []
   },
   "outputs": [
    {
     "name": "stdout",
     "output_type": "stream",
     "text": [
      "['positive']\n",
      "['positive']\n",
      "['positive']\n"
     ]
    }
   ],
   "source": [
    "print(dec_tree.predict(tfidf.transform(['A good movie'])))\n",
    "print(dec_tree.predict(tfidf.transform(['An excellent movie'])))\n",
    "print(dec_tree.predict(tfidf.transform(['I did not like this movie at all'])))"
   ]
  },
  {
   "cell_type": "markdown",
   "id": "7441e71c",
   "metadata": {
    "papermill": {
     "duration": 0.046103,
     "end_time": "2022-04-06T05:52:35.209579",
     "exception": false,
     "start_time": "2022-04-06T05:52:35.163476",
     "status": "completed"
    },
    "tags": []
   },
   "source": [
    "# **Model Evaluation**\n",
    "**Mean Accuracy**\n",
    "* **Support Vector Machines** "
   ]
  },
  {
   "cell_type": "code",
   "execution_count": 22,
   "id": "9c84dc97",
   "metadata": {
    "execution": {
     "iopub.execute_input": "2022-04-06T05:52:35.307528Z",
     "iopub.status.busy": "2022-04-06T05:52:35.306919Z",
     "iopub.status.idle": "2022-04-06T05:52:36.063587Z",
     "shell.execute_reply": "2022-04-06T05:52:36.064146Z",
     "shell.execute_reply.started": "2022-04-06T05:27:33.674847Z"
    },
    "papermill": {
     "duration": 0.808377,
     "end_time": "2022-04-06T05:52:36.064327",
     "exception": false,
     "start_time": "2022-04-06T05:52:35.255950",
     "status": "completed"
    },
    "tags": []
   },
   "outputs": [
    {
     "data": {
      "text/plain": [
       "0.8409090909090909"
      ]
     },
     "execution_count": 22,
     "metadata": {},
     "output_type": "execute_result"
    }
   ],
   "source": [
    "svc.score(test_x_vector, test_y)"
   ]
  },
  {
   "cell_type": "markdown",
   "id": "a98aaf62",
   "metadata": {
    "papermill": {
     "duration": 0.047663,
     "end_time": "2022-04-06T05:52:36.158264",
     "exception": false,
     "start_time": "2022-04-06T05:52:36.110601",
     "status": "completed"
    },
    "tags": []
   },
   "source": [
    "*  **Decisoin Tree**"
   ]
  },
  {
   "cell_type": "code",
   "execution_count": 23,
   "id": "9505a000",
   "metadata": {
    "execution": {
     "iopub.execute_input": "2022-04-06T05:52:36.257381Z",
     "iopub.status.busy": "2022-04-06T05:52:36.256689Z",
     "iopub.status.idle": "2022-04-06T05:52:36.264518Z",
     "shell.execute_reply": "2022-04-06T05:52:36.265191Z",
     "shell.execute_reply.started": "2022-04-06T05:27:50.006164Z"
    },
    "papermill": {
     "duration": 0.060523,
     "end_time": "2022-04-06T05:52:36.265357",
     "exception": false,
     "start_time": "2022-04-06T05:52:36.204834",
     "status": "completed"
    },
    "tags": []
   },
   "outputs": [
    {
     "data": {
      "text/plain": [
       "0.6409090909090909"
      ]
     },
     "execution_count": 23,
     "metadata": {},
     "output_type": "execute_result"
    }
   ],
   "source": [
    "dec_tree.score(test_x_vector, test_y)"
   ]
  },
  {
   "cell_type": "markdown",
   "id": "e070dfb3",
   "metadata": {
    "papermill": {
     "duration": 0.047158,
     "end_time": "2022-04-06T05:52:36.360594",
     "exception": false,
     "start_time": "2022-04-06T05:52:36.313436",
     "status": "completed"
    },
    "tags": []
   },
   "source": [
    "* **Logistic Regression**"
   ]
  },
  {
   "cell_type": "code",
   "execution_count": 24,
   "id": "a8892c30",
   "metadata": {
    "execution": {
     "iopub.execute_input": "2022-04-06T05:52:36.461528Z",
     "iopub.status.busy": "2022-04-06T05:52:36.459638Z",
     "iopub.status.idle": "2022-04-06T05:52:36.468319Z",
     "shell.execute_reply": "2022-04-06T05:52:36.467776Z",
     "shell.execute_reply.started": "2022-04-06T05:28:09.657758Z"
    },
    "papermill": {
     "duration": 0.060163,
     "end_time": "2022-04-06T05:52:36.468463",
     "exception": false,
     "start_time": "2022-04-06T05:52:36.408300",
     "status": "completed"
    },
    "tags": []
   },
   "outputs": [
    {
     "data": {
      "text/plain": [
       "0.8303030303030303"
      ]
     },
     "execution_count": 24,
     "metadata": {},
     "output_type": "execute_result"
    }
   ],
   "source": [
    "log_reg.score(test_x_vector, test_y)"
   ]
  },
  {
   "cell_type": "markdown",
   "id": "b3e76ee4",
   "metadata": {
    "papermill": {
     "duration": 0.047192,
     "end_time": "2022-04-06T05:52:36.563437",
     "exception": false,
     "start_time": "2022-04-06T05:52:36.516245",
     "status": "completed"
    },
    "tags": []
   },
   "source": [
    "# **Classification Report**"
   ]
  },
  {
   "cell_type": "code",
   "execution_count": 25,
   "id": "97e89c83",
   "metadata": {
    "execution": {
     "iopub.execute_input": "2022-04-06T05:52:36.662230Z",
     "iopub.status.busy": "2022-04-06T05:52:36.661227Z",
     "iopub.status.idle": "2022-04-06T05:52:37.436061Z",
     "shell.execute_reply": "2022-04-06T05:52:37.435415Z",
     "shell.execute_reply.started": "2022-04-06T05:28:21.849722Z"
    },
    "papermill": {
     "duration": 0.825149,
     "end_time": "2022-04-06T05:52:37.436211",
     "exception": false,
     "start_time": "2022-04-06T05:52:36.611062",
     "status": "completed"
    },
    "tags": []
   },
   "outputs": [
    {
     "name": "stdout",
     "output_type": "stream",
     "text": [
      "              precision    recall  f1-score   support\n",
      "\n",
      "    positive       0.83      0.87      0.85       335\n",
      "    negative       0.85      0.82      0.83       325\n",
      "\n",
      "    accuracy                           0.84       660\n",
      "   macro avg       0.84      0.84      0.84       660\n",
      "weighted avg       0.84      0.84      0.84       660\n",
      "\n"
     ]
    }
   ],
   "source": [
    "from sklearn.metrics import classification_report\n",
    "print(classification_report(test_y, \n",
    "                            svc.predict(test_x_vector),\n",
    "                            labels=['positive', 'negative']))"
   ]
  },
  {
   "cell_type": "markdown",
   "id": "20b0877e",
   "metadata": {
    "papermill": {
     "duration": 0.04731,
     "end_time": "2022-04-06T05:52:37.531166",
     "exception": false,
     "start_time": "2022-04-06T05:52:37.483856",
     "status": "completed"
    },
    "tags": []
   },
   "source": [
    "# **Confusion Matrix**"
   ]
  },
  {
   "cell_type": "code",
   "execution_count": 26,
   "id": "750073d1",
   "metadata": {
    "execution": {
     "iopub.execute_input": "2022-04-06T05:52:37.632303Z",
     "iopub.status.busy": "2022-04-06T05:52:37.631654Z",
     "iopub.status.idle": "2022-04-06T05:52:38.369962Z",
     "shell.execute_reply": "2022-04-06T05:52:38.369363Z",
     "shell.execute_reply.started": "2022-04-06T05:28:40.147306Z"
    },
    "papermill": {
     "duration": 0.791252,
     "end_time": "2022-04-06T05:52:38.370109",
     "exception": false,
     "start_time": "2022-04-06T05:52:37.578857",
     "status": "completed"
    },
    "tags": []
   },
   "outputs": [],
   "source": [
    "from sklearn.metrics import confusion_matrix\n",
    "conf_mat = confusion_matrix(test_y, \n",
    "                            svc.predict(test_x_vector), \n",
    "                            labels=['positive', 'negative'])"
   ]
  },
  {
   "cell_type": "code",
   "execution_count": 27,
   "id": "2ebdde0f",
   "metadata": {
    "execution": {
     "iopub.execute_input": "2022-04-06T05:52:38.469760Z",
     "iopub.status.busy": "2022-04-06T05:52:38.468781Z",
     "iopub.status.idle": "2022-04-06T05:52:38.473987Z",
     "shell.execute_reply": "2022-04-06T05:52:38.474483Z",
     "shell.execute_reply.started": "2022-04-06T05:28:51.972463Z"
    },
    "papermill": {
     "duration": 0.056749,
     "end_time": "2022-04-06T05:52:38.474665",
     "exception": false,
     "start_time": "2022-04-06T05:52:38.417916",
     "status": "completed"
    },
    "tags": []
   },
   "outputs": [
    {
     "data": {
      "text/plain": [
       "array([[290,  45],\n",
       "       [ 60, 265]])"
      ]
     },
     "execution_count": 27,
     "metadata": {},
     "output_type": "execute_result"
    }
   ],
   "source": [
    "conf_mat"
   ]
  },
  {
   "cell_type": "markdown",
   "id": "bbfc5373",
   "metadata": {
    "papermill": {
     "duration": 0.047462,
     "end_time": "2022-04-06T05:52:38.570845",
     "exception": false,
     "start_time": "2022-04-06T05:52:38.523383",
     "status": "completed"
    },
    "tags": []
   },
   "source": [
    "# **Tuning the Model**"
   ]
  },
  {
   "cell_type": "code",
   "execution_count": 28,
   "id": "d7318890",
   "metadata": {
    "execution": {
     "iopub.execute_input": "2022-04-06T05:52:38.671347Z",
     "iopub.status.busy": "2022-04-06T05:52:38.670337Z",
     "iopub.status.idle": "2022-04-06T05:53:50.340347Z",
     "shell.execute_reply": "2022-04-06T05:53:50.340876Z",
     "shell.execute_reply.started": "2022-04-06T05:29:19.151580Z"
    },
    "papermill": {
     "duration": 71.721524,
     "end_time": "2022-04-06T05:53:50.341057",
     "exception": false,
     "start_time": "2022-04-06T05:52:38.619533",
     "status": "completed"
    },
    "tags": []
   },
   "outputs": [
    {
     "data": {
      "text/plain": [
       "GridSearchCV(cv=5, estimator=SVC(),\n",
       "             param_grid={'C': [1, 4, 8, 16, 32], 'kernel': ['linear', 'rbf']})"
      ]
     },
     "execution_count": 28,
     "metadata": {},
     "output_type": "execute_result"
    }
   ],
   "source": [
    "from sklearn.model_selection import GridSearchCV\n",
    "#set the parameters\n",
    "parameters = {\"C\": [1,4,8,16,32] ,\"kernel\":[\"linear\", \"rbf\"]}\n",
    "svc = SVC()\n",
    "svc_grid = GridSearchCV(svc,parameters, cv=5)\n",
    "\n",
    "svc_grid.fit(train_x_vector, train_y)"
   ]
  },
  {
   "cell_type": "code",
   "execution_count": 29,
   "id": "fa01c406",
   "metadata": {
    "execution": {
     "iopub.execute_input": "2022-04-06T05:53:50.444121Z",
     "iopub.status.busy": "2022-04-06T05:53:50.443456Z",
     "iopub.status.idle": "2022-04-06T05:53:50.447543Z",
     "shell.execute_reply": "2022-04-06T05:53:50.448040Z",
     "shell.execute_reply.started": "2022-04-06T05:30:30.948382Z"
    },
    "papermill": {
     "duration": 0.058085,
     "end_time": "2022-04-06T05:53:50.448196",
     "exception": false,
     "start_time": "2022-04-06T05:53:50.390111",
     "status": "completed"
    },
    "tags": []
   },
   "outputs": [
    {
     "name": "stdout",
     "output_type": "stream",
     "text": [
      "{'C': 1, 'kernel': 'linear'}\n",
      "SVC(C=1, kernel='linear')\n"
     ]
    }
   ],
   "source": [
    "print(svc_grid.best_params_)\n",
    "print(svc_grid.best_estimator_)"
   ]
  }
 ],
 "metadata": {
  "kernelspec": {
   "display_name": "Python 3",
   "language": "python",
   "name": "python3"
  },
  "language_info": {
   "codemirror_mode": {
    "name": "ipython",
    "version": 3
   },
   "file_extension": ".py",
   "mimetype": "text/x-python",
   "name": "python",
   "nbconvert_exporter": "python",
   "pygments_lexer": "ipython3",
   "version": "3.7.12"
  },
  "papermill": {
   "default_parameters": {},
   "duration": 95.872582,
   "end_time": "2022-04-06T05:53:51.308417",
   "environment_variables": {},
   "exception": null,
   "input_path": "__notebook__.ipynb",
   "output_path": "__notebook__.ipynb",
   "parameters": {},
   "start_time": "2022-04-06T05:52:15.435835",
   "version": "2.3.3"
  }
 },
 "nbformat": 4,
 "nbformat_minor": 5
}
